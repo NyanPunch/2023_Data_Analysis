{
 "cells": [
  {
   "cell_type": "markdown",
   "id": "30c62520",
   "metadata": {},
   "source": [
    "[학습목표]<br>\n",
    "목적에 따른 여러가지 그래프를 그리는 기본 방법을 이해한다."
   ]
  },
  {
   "cell_type": "markdown",
   "id": "1caee086",
   "metadata": {},
   "source": [
    "# 라이브러리 임포트\n",
    "* matplotlib의 pyplot 모듈 사용\n",
    "* 관용적으로 plt라는 별칭 사용"
   ]
  },
  {
   "cell_type": "code",
   "execution_count": 1,
   "id": "59a0fa37",
   "metadata": {},
   "outputs": [],
   "source": [
    "import matplotlib.pyplot as plt"
   ]
  },
  {
   "cell_type": "markdown",
   "id": "3b9152e6",
   "metadata": {},
   "source": [
    "# 시간의 시각화"
   ]
  },
  {
   "cell_type": "code",
   "execution_count": 2,
   "id": "8db81fb0",
   "metadata": {},
   "outputs": [],
   "source": [
    "# 샘플데이터 : 어떤 아이의 나이별 키의 변화\n",
    "age = [7,8,9,10,11,12,13,14,15]\n",
    "height = [122.1, 127.9, 133.4, 138.8, 142.7, 151.4, 155.6, 165.0, 169.2]"
   ]
  },
  {
   "cell_type": "markdown",
   "id": "abe52d7b",
   "metadata": {},
   "source": [
    "## 선그래프"
   ]
  },
  {
   "cell_type": "code",
   "execution_count": 3,
   "id": "0a615450",
   "metadata": {},
   "outputs": [
    {
     "data": {
      "text/plain": [
       "[<matplotlib.lines.Line2D at 0x21a023dc610>]"
      ]
     },
     "execution_count": 3,
     "metadata": {},
     "output_type": "execute_result"
    },
    {
     "data": {
      "image/png": "[encoded data removed]",
      "text/plain": [
       "<Figure size 432x288 with 1 Axes>"
      ]
     },
     "metadata": {
      "needs_background": "light"
     },
     "output_type": "display_data"
    }
   ],
   "source": [
    "plt.plot(age, height)"
   ]
  },
  {
   "cell_type": "markdown",
   "id": "11a2bfff",
   "metadata": {},
   "source": [
    "# 수량비교 시각화"
   ]
  },
  {
   "cell_type": "code",
   "execution_count": 4,
   "id": "3f439f4a",
   "metadata": {},
   "outputs": [],
   "source": [
    "# 샘플데이터 : 100명 중 혈액형 인원 비교\n",
    "blood_type=['A','B','O','AB']\n",
    "count=[45,35,15,5]"
   ]
  },
  {
   "cell_type": "markdown",
   "id": "70fa4b91",
   "metadata": {},
   "source": [
    "## 막대 그래프"
   ]
  },
  {
   "cell_type": "code",
   "execution_count": 5,
   "id": "129e91e2",
   "metadata": {
    "scrolled": true
   },
   "outputs": [
    {
     "data": {
      "text/plain": [
       "<BarContainer object of 4 artists>"
      ]
     },
     "execution_count": 5,
     "metadata": {},
     "output_type": "execute_result"
    },
    {
     "data": {
      "image/png": "[encoded data removed]",
      "text/plain": [
       "<Figure size 432x288 with 1 Axes>"
      ]
     },
     "metadata": {
      "needs_background": "light"
     },
     "output_type": "display_data"
    }
   ],
   "source": [
    "plt.bar(blood_type,count)"
   ]
  },
  {
   "cell_type": "markdown",
   "id": "f487e886",
   "metadata": {},
   "source": [
    "## 가로 막대 그래프"
   ]
  },
  {
   "cell_type": "code",
   "execution_count": 6,
   "id": "983f461f",
   "metadata": {
    "scrolled": false
   },
   "outputs": [
    {
     "data": {
      "text/plain": [
       "<BarContainer object of 4 artists>"
      ]
     },
     "execution_count": 6,
     "metadata": {},
     "output_type": "execute_result"
    },
    {
     "data": {
      "image/png": "[encoded data removed]",
      "text/plain": [
       "<Figure size 432x288 with 1 Axes>"
      ]
     },
     "metadata": {
      "needs_background": "light"
     },
     "output_type": "display_data"
    }
   ],
   "source": [
    "plt.barh(blood_type,count)"
   ]
  },
  {
   "cell_type": "markdown",
   "id": "5b6a0e4a",
   "metadata": {},
   "source": [
    "# 비율의 시각화"
   ]
  },
  {
   "cell_type": "code",
   "execution_count": 7,
   "id": "73bb1996",
   "metadata": {},
   "outputs": [],
   "source": [
    "# 샘플데이터 : 100명 중 혈액형 인원의 비율\n",
    "blood_type=['A','B','O','AB']\n",
    "count=[45,35,15,5]"
   ]
  },
  {
   "cell_type": "markdown",
   "id": "2725e275",
   "metadata": {},
   "source": [
    "## 파이차트\n",
    "* pie"
   ]
  },
  {
   "cell_type": "code",
   "execution_count": 8,
   "id": "6b56edbe",
   "metadata": {
    "scrolled": false
   },
   "outputs": [
    {
     "data": {
      "image/png": "[encoded data removed]",
      "text/plain": [
       "<Figure size 432x288 with 1 Axes>"
      ]
     },
     "metadata": {},
     "output_type": "display_data"
    }
   ],
   "source": [
    "plt.pie(count, labels=blood_type)\n",
    "plt.show()"
   ]
  },
  {
   "cell_type": "markdown",
   "id": "86062dc1",
   "metadata": {},
   "source": [
    "# 분포의 시각화"
   ]
  },
  {
   "cell_type": "code",
   "execution_count": 9,
   "id": "564a2417",
   "metadata": {},
   "outputs": [
    {
     "data": {
      "text/plain": [
       "array([ 63,  80,  68,  45,   2,  53,  41,  45,  20,   7,  56,  34,  41,\n",
       "        96,  96,  60,   4,  36,  73,  15,   9,  58,  99,  65,  67,  71,\n",
       "        86,  13,  17,  22,  85,  37,  59,  28,  39,  18,  27,  90,   5,\n",
       "         5,   9,  75,  69,  98,  15,  95,  84,  35,  31,  99,  61,  97,\n",
       "        77,  43,  50,  37,  43,  88,  62,  16,  90,  74,  18,  96,  55,\n",
       "        60,   8,  58,  87,  80,  11,  56,  13,  72,  40,  52,  44,  19,\n",
       "        24,  15,  56,  32,  62,  70,  80,  45,  21,  48,  11,  36,  25,\n",
       "        22,  11,   3,  47,   2,  18,  99,  32,  67,  66,  52,  27,  66,\n",
       "        41,  71,  73,  86,  11,  58,  27,  99,  82,  72,  54,  46,  12,\n",
       "        16,  27,  11,  12,  74,   7,  59,  46,  55,  93,  62,  10,   1,\n",
       "        88,  65,  29,  60,  73,  84,  87,  44,   7, 100,  68,  80,  28,\n",
       "        97,  15,  32,  23,  88,  48,  44,  45,   7,  84,  13,  70,  93,\n",
       "        76,  38,  79,  64,  90,  94,  99,  34,  78,   7,  26,  64,  49,\n",
       "        14,  74,  35,  32,  53,  92,  52,  69,   4,  98,  78,  30,  56,\n",
       "        77,  68,  89,  34,  89,  94,  44,  34,  56,  82,  30,  33,   4,\n",
       "        53,  65,  69,  13,  66,  43,   4,  81,  44,  38,   8,  55,  17,\n",
       "        49,  62,  65,  37,  42,  44,  98,  67,  30,  18,  37,  45,  84,\n",
       "        80,  55,  36,  89,  88,  90,  81,  70,  86,  87,  87,  52,  22,\n",
       "       100,  41,  70,  37,  88,  93,  86,  28,  75,  17,  55,  58,  15,\n",
       "        56,   6,   9,  89,  85,  98,  20,  37,  53,  58,  71,  90,  15,\n",
       "        31,  74,  70,  48,  83,  71,  79,  26,  90,  24,  40,  76,  39,\n",
       "        97,  50,  26,  87,  49,  65,  93,  73,  41,  64,  17,  71,  24,\n",
       "         7,  78,  41,  19,  26,  70,  92,  56,  99,  28,  10,  20,  70,\n",
       "        34,  51,  37,  23,  25,   5,  92,  82,  87,  12,  70,   7,  98,\n",
       "        54,  30,  41,  15,   3,  80,  55,   5,  44,   3,  87,  25,  86,\n",
       "        82,  45,  21,  65,  99,  67,   4,  97,  91,  31,  13,   1,  78,\n",
       "        51,  33,  97,   3,  31,  60,  73,  18,  51,  92,  62,  21,   5,\n",
       "         1,  32,  64,  21,  30,  84,  67,  90,  31,  68,  21,   9,  79,\n",
       "        18,  77,  99,  90,  50,  73,  38,  97,  54,  81,  71,  65,  11,\n",
       "        89,  57,  49,  77,  10, 100,  82,  67,  98,  94,   7,   3,   4,\n",
       "        84,  95,  98,  87,  23,  30,  73,  40,  89,   8,  78,  15,   3,\n",
       "        21,  79,  97,  73,  30,  46,  42,  90,  14,  92,  78,  37,  35,\n",
       "        22,  92,   9,  24,  69,  30,  88,  19,  74,  74,  10,  23,  28,\n",
       "        78,  28,  25,  77,   2,  65,  69,  45,  52,   5,  73,  22,  57,\n",
       "        34,  10,  64,  72,  61,  37,  80,  33,  48,   5,  99,  32,  70,\n",
       "        98,  35,  35,  41,  25,  31,  48,  43,  44,  43,  23,  14, 100,\n",
       "        38,  63,  89,  52,  33,  92,  59,  52,  57,  49,   9,  23,  72,\n",
       "        94,  75,  71,  18,  60,  64,  64,  49,  87,  58,  59,  24,   6,\n",
       "        39,  36,  45,  30,  41,  71,  12,  33,  70,  70,   4,  67,  29,\n",
       "        91,  61,  63,  39,  61,  44,   1,  75,  97,  69,  73,  16,  46,\n",
       "        54, 100,  48,   1,  89,  74,  41,  41,  85,  59,  98,  46,  91,\n",
       "        62,  49,  56,  99,  97,  90,  92,  93,  90,  68,  73,  58,  58,\n",
       "        64,  39,  10,  32,  55,  97,  77,  76,   6,  26,  62,   4,  78,\n",
       "        27,  22,  99,  49,   2,  90,  37,   9,  77,  36,  47,  25,  96,\n",
       "        32,   1, 100,  99,  93,  18,  21,  80,  97,  84,  77,  57,  36,\n",
       "        55,  39,  39,  80,  54,  26,   8,  46,  75,  87,  21,  84,  52,\n",
       "         1,  35,  73,  58,  15, 100,  27,  25,  27,  15,   2,  28,  30,\n",
       "        49,  71,  84,  24,  82,  20,  88,   5,  88,  10,  74,  93,   6,\n",
       "        32,  57,  47,  76,  18,  71,  32,  87,  71,   6,  19,  56,  14,\n",
       "        73,  60,  75,  18,   3,  20,  27,  27,  89,  10,  10,  10,  79,\n",
       "        10,  83,  51,  54,  55,  70,  27,  96, 100,  10,  46,  62,  22,\n",
       "        60,  79,  22,  28,  90,  15,   6,  88,  30, 100,  15,  99,  17,\n",
       "        41,  84,  14,   7,  64,  54,  51,   2,  26,  38,   7,  92,  94,\n",
       "         7,  90,  36,  19,  10,  73,  77,  33,  47,  36,  31,  18,  96,\n",
       "        20,  40,  34,  81,  74,  73,   9,  19,  90,  65,  32,  79,  63,\n",
       "        52,  52,  96,  70,  46,  15,  64,  56,  48,  39,  43,  14,  80,\n",
       "        84,  32,  47,  41,   7,  82,  29,  42,  35,  46,  65,  83,   1,\n",
       "        68,  84,  59,  28,  81,  11,  29,  18,  12,  44,  29,  44,  35,\n",
       "        35,  15,  13,  23,  81,  96,  14,  96, 100,  89,  21,  62,  57,\n",
       "        35,  26,   1,  56,  44,  52,  83,  43,  97,  24,   5,  23,  11,\n",
       "        15,  51,  44,  80,  15,  95,  47,  82,  20,  40,  35,  20,  43,\n",
       "        82,  17,  26,  46,  62,  83,  93,   2,  27,  64,  12,  76,  94,\n",
       "         1,  23,  10,  51,   2,  59,  84,  36,  66,  47,   1,  92,  57,\n",
       "        99,  84,  38,  87,  28,  97,  77,  80,  59,  23,  26,  19,  68,\n",
       "        32,  84,  13,  40,  77,  24,   3,  57,  95,  60,  19,  37,  58,\n",
       "        35,  21,  61,  68,  76,  38,  25,   2,  13,  73,  65,  92,  20,\n",
       "        50,  74,  14,  18,  79,  14,  21,  17,  77,  50,  60,  17,  78,\n",
       "        19,  51,  13, 100,   9,  93,  55,   6,  30,  28,  90,  91,  55,\n",
       "        38,   8,  62, 100,  26,  21,  12,  30,  96,  38,  69,  45,  42,\n",
       "         3,  85,  33,  75,  68,   9,  55,  28,  80,  51,  89,  65,  52,\n",
       "        98,  51,  60,  18,  42,  40,  82,  21,  91,  84,  53,  20,  65,\n",
       "        77,  13,  62,  99,  50,  27,  76, 100,  78,  63,  39,  89,  57,\n",
       "        66,  38,  66,  20,  14,  81,  92,  55,  67,   6, 100,  48,  59,\n",
       "        36,  39,  11,  30,  12,  25,  54,  75,  21,  52,  43,  30,  95,\n",
       "        53,  43,  37,  78,  75,  87,  11,  95,  99,  13,  54,  59,  59,\n",
       "        83,  34,  52,  36,  14,  85,  68,  85,  68,  41,  55,   7,   6,\n",
       "        31,  80,  67,  63,  79,  20,  53,  94,  62,  50,  67,   3])"
      ]
     },
     "execution_count": 9,
     "metadata": {},
     "output_type": "execute_result"
    }
   ],
   "source": [
    "# 샘플데이터 (1~100사이의 랜덤 정수 1000개)\n",
    "import numpy as np\n",
    "data = np.random.randint(1,101,1000)\n",
    "data"
   ]
  },
  {
   "cell_type": "markdown",
   "id": "4d09e4e6",
   "metadata": {},
   "source": [
    "## 히스토그램"
   ]
  },
  {
   "cell_type": "code",
   "execution_count": 10,
   "id": "6bf388f8",
   "metadata": {
    "scrolled": false
   },
   "outputs": [
    {
     "data": {
      "image/png": "[encoded data removed]",
      "text/plain": [
       "<Figure size 432x288 with 1 Axes>"
      ]
     },
     "metadata": {
      "needs_background": "light"
     },
     "output_type": "display_data"
    }
   ],
   "source": [
    "plt.hist(data, bins=100)\n",
    "plt.show()"
   ]
  },
  {
   "cell_type": "markdown",
   "id": "1b5ab169",
   "metadata": {},
   "source": [
    "## 상자수염그래프\n",
    "* boxplot"
   ]
  },
  {
   "cell_type": "code",
   "execution_count": 11,
   "id": "58ae57c9",
   "metadata": {
    "scrolled": false
   },
   "outputs": [
    {
     "data": {
      "image/png": "[encoded data removed]",
      "text/plain": [
       "<Figure size 432x288 with 1 Axes>"
      ]
     },
     "metadata": {
      "needs_background": "light"
     },
     "output_type": "display_data"
    }
   ],
   "source": [
    "plt.boxplot(data)\n",
    "plt.show()"
   ]
  },
  {
   "cell_type": "markdown",
   "id": "4a9f86cf",
   "metadata": {},
   "source": [
    "## 바이올린그래프\n",
    "* violinplot"
   ]
  },
  {
   "cell_type": "code",
   "execution_count": 12,
   "id": "94e781ac",
   "metadata": {
    "scrolled": true
   },
   "outputs": [
    {
     "data": {
      "image/png": "[encoded data removed]",
      "text/plain": [
       "<Figure size 432x288 with 1 Axes>"
      ]
     },
     "metadata": {
      "needs_background": "light"
     },
     "output_type": "display_data"
    }
   ],
   "source": [
    "plt.violinplot(data)\n",
    "plt.show()"
   ]
  },
  {
   "cell_type": "markdown",
   "id": "97b72c63",
   "metadata": {},
   "source": [
    "# 관계의 시각화"
   ]
  },
  {
   "cell_type": "code",
   "execution_count": 13,
   "id": "f21d82d5",
   "metadata": {
    "scrolled": false
   },
   "outputs": [
    {
     "data": {
      "text/html": [
       "<div>\n",
       "<style scoped>\n",
       "    .dataframe tbody tr th:only-of-type {\n",
       "        vertical-align: middle;\n",
       "    }\n",
       "\n",
       "    .dataframe tbody tr th {\n",
       "        vertical-align: top;\n",
       "    }\n",
       "\n",
       "    .dataframe thead th {\n",
       "        text-align: right;\n",
       "    }\n",
       "</style>\n",
       "<table border=\"1\" class=\"dataframe\">\n",
       "  <thead>\n",
       "    <tr style=\"text-align: right;\">\n",
       "      <th></th>\n",
       "      <th>total_bill</th>\n",
       "      <th>tip</th>\n",
       "    </tr>\n",
       "  </thead>\n",
       "  <tbody>\n",
       "    <tr>\n",
       "      <th>0</th>\n",
       "      <td>16.99</td>\n",
       "      <td>1.01</td>\n",
       "    </tr>\n",
       "    <tr>\n",
       "      <th>1</th>\n",
       "      <td>10.34</td>\n",
       "      <td>1.66</td>\n",
       "    </tr>\n",
       "    <tr>\n",
       "      <th>2</th>\n",
       "      <td>21.01</td>\n",
       "      <td>3.50</td>\n",
       "    </tr>\n",
       "    <tr>\n",
       "      <th>3</th>\n",
       "      <td>23.68</td>\n",
       "      <td>3.31</td>\n",
       "    </tr>\n",
       "    <tr>\n",
       "      <th>4</th>\n",
       "      <td>24.59</td>\n",
       "      <td>3.61</td>\n",
       "    </tr>\n",
       "    <tr>\n",
       "      <th>...</th>\n",
       "      <td>...</td>\n",
       "      <td>...</td>\n",
       "    </tr>\n",
       "    <tr>\n",
       "      <th>239</th>\n",
       "      <td>29.03</td>\n",
       "      <td>5.92</td>\n",
       "    </tr>\n",
       "    <tr>\n",
       "      <th>240</th>\n",
       "      <td>27.18</td>\n",
       "      <td>2.00</td>\n",
       "    </tr>\n",
       "    <tr>\n",
       "      <th>241</th>\n",
       "      <td>22.67</td>\n",
       "      <td>2.00</td>\n",
       "    </tr>\n",
       "    <tr>\n",
       "      <th>242</th>\n",
       "      <td>17.82</td>\n",
       "      <td>1.75</td>\n",
       "    </tr>\n",
       "    <tr>\n",
       "      <th>243</th>\n",
       "      <td>18.78</td>\n",
       "      <td>3.00</td>\n",
       "    </tr>\n",
       "  </tbody>\n",
       "</table>\n",
       "<p>244 rows × 2 columns</p>\n",
       "</div>"
      ],
      "text/plain": [
       "     total_bill   tip\n",
       "0         16.99  1.01\n",
       "1         10.34  1.66\n",
       "2         21.01  3.50\n",
       "3         23.68  3.31\n",
       "4         24.59  3.61\n",
       "..          ...   ...\n",
       "239       29.03  5.92\n",
       "240       27.18  2.00\n",
       "241       22.67  2.00\n",
       "242       17.82  1.75\n",
       "243       18.78  3.00\n",
       "\n",
       "[244 rows x 2 columns]"
      ]
     },
     "execution_count": 13,
     "metadata": {},
     "output_type": "execute_result"
    }
   ],
   "source": [
    "## 샘플데이터 (지불금액에 따른 팁)\n",
    "import seaborn as sns\n",
    "tips = sns.load_dataset('tips')[['total_bill','tip']]\n",
    "tips"
   ]
  },
  {
   "cell_type": "markdown",
   "id": "627ba5a4",
   "metadata": {},
   "source": [
    "## 산점도\n",
    "* scatter"
   ]
  },
  {
   "cell_type": "code",
   "execution_count": 14,
   "id": "1af15d7e",
   "metadata": {
    "scrolled": true
   },
   "outputs": [
    {
     "data": {
      "text/plain": [
       "<matplotlib.collections.PathCollection at 0x21a05ae0eb0>"
      ]
     },
     "execution_count": 14,
     "metadata": {},
     "output_type": "execute_result"
    },
    {
     "data": {
      "image/png": "[encoded data removed]",
      "text/plain": [
       "<Figure size 432x288 with 1 Axes>"
      ]
     },
     "metadata": {
      "needs_background": "light"
     },
     "output_type": "display_data"
    }
   ],
   "source": [
    "plt.scatter(tips['total_bill'], tips['tip'])"
   ]
  }
 ],
 "metadata": {
  "kernelspec": {
   "display_name": "Python 3 (ipykernel)",
   "language": "python",
   "name": "python3"
  },
  "language_info": {
   "codemirror_mode": {
    "name": "ipython",
    "version": 3
   },
   "file_extension": ".py",
   "mimetype": "text/x-python",
   "name": "python",
   "nbconvert_exporter": "python",
   "pygments_lexer": "ipython3",
   "version": "3.9.12"
  },
  "toc": {
   "base_numbering": 1,
   "nav_menu": {},
   "number_sections": true,
   "sideBar": true,
   "skip_h1_title": false,
   "title_cell": "Table of Contents",
   "title_sidebar": "Contents",
   "toc_cell": false,
   "toc_position": {
    "height": "calc(100% - 180px)",
    "left": "10px",
    "top": "150px",
    "width": "303.81px"
   },
   "toc_section_display": true,
   "toc_window_display": false
  }
 },
 "nbformat": 4,
 "nbformat_minor": 5
}
